{
 "cells": [
  {
   "cell_type": "code",
   "execution_count": 2,
   "metadata": {},
   "outputs": [],
   "source": [
    "import tensorflow as tf"
   ]
  },
  {
   "cell_type": "code",
   "execution_count": 3,
   "metadata": {},
   "outputs": [
    {
     "name": "stdout",
     "output_type": "stream",
     "text": [
      "120\n"
     ]
    }
   ],
   "source": [
    "a= tf.constant(100)\n",
    "b= tf.constant(20)\n",
    "with tf.Session() as sess:\n",
    "    result = sess.run(a+b)\n",
    "print(result)"
   ]
  },
  {
   "cell_type": "code",
   "execution_count": 4,
   "metadata": {},
   "outputs": [
    {
     "name": "stdout",
     "output_type": "stream",
     "text": [
      "[[10 10 10 10]\n",
      " [10 10 10 10]\n",
      " [10 10 10 10]\n",
      " [10 10 10 10]]\n",
      "\n",
      "\n",
      "[[0. 0. 0. 0.]\n",
      " [0. 0. 0. 0.]\n",
      " [0. 0. 0. 0.]\n",
      " [0. 0. 0. 0.]]\n",
      "\n",
      "\n",
      "[[0. 0. 0. 0.]\n",
      " [0. 0. 0. 0.]\n",
      " [0. 0. 0. 0.]\n",
      " [0. 0. 0. 0.]]\n",
      "\n",
      "\n",
      "[[ 0.785133    0.11480697 -0.09137132  0.5968584 ]\n",
      " [ 3.3958538   0.6931504   1.6756667   0.87044966]\n",
      " [ 1.191872   -0.04665197  0.8724494   0.02992201]\n",
      " [ 0.6050213   0.98248553  0.8840305  -0.05914465]]\n",
      "\n",
      "\n",
      "[[0.57780087 0.7012147  0.0689882  0.26604366]\n",
      " [0.79983926 0.9783616  0.08700562 0.40899038]\n",
      " [0.8790586  0.5578145  0.00373673 0.67460084]\n",
      " [0.935143   0.61058116 0.86031175 0.30702496]]\n",
      "\n",
      "\n"
     ]
    }
   ],
   "source": [
    "fill_mat = tf.fill((4,4),10)\n",
    "myzeros = tf.zeros((4,4))\n",
    "myones = tf.ones((4,4))\n",
    "myrandn = tf.random_normal((4,4),mean=0,stddev=1.0)\n",
    "myrandu = tf.random_uniform((4,4),minval=0.0,maxval=1.0)\n",
    "my_ops = [fill_mat,myzeros,myones,myrandn,myrandu]\n",
    "\n",
    "sess = tf.InteractiveSession()\n",
    "for op in my_ops:\n",
    "    print(sess.run(op)) # op.eval()\n",
    "    print('\\n')"
   ]
  },
  {
   "cell_type": "code",
   "execution_count": 5,
   "metadata": {},
   "outputs": [
    {
     "data": {
      "text/plain": [
       "TensorShape([Dimension(2), Dimension(2)])"
      ]
     },
     "execution_count": 5,
     "metadata": {},
     "output_type": "execute_result"
    }
   ],
   "source": [
    "a = tf.constant([[1,2],\n",
    "                 [3,4]])\n",
    "a.get_shape()"
   ]
  },
  {
   "cell_type": "code",
   "execution_count": 8,
   "metadata": {},
   "outputs": [
    {
     "data": {
      "text/plain": [
       "TensorShape([Dimension(2), Dimension(1)])"
      ]
     },
     "execution_count": 8,
     "metadata": {},
     "output_type": "execute_result"
    }
   ],
   "source": [
    "b=tf.constant([[10],[100]])\n",
    "b.get_shape()"
   ]
  },
  {
   "cell_type": "code",
   "execution_count": 9,
   "metadata": {},
   "outputs": [
    {
     "data": {
      "text/plain": [
       "array([[210],\n",
       "       [430]], dtype=int32)"
      ]
     },
     "execution_count": 9,
     "metadata": {},
     "output_type": "execute_result"
    }
   ],
   "source": [
    "result = tf.matmul(a,b)\n",
    "sess.run(result)"
   ]
  },
  {
   "cell_type": "code",
   "execution_count": 10,
   "metadata": {},
   "outputs": [
    {
     "data": {
      "text/plain": [
       "array([[210],\n",
       "       [430]], dtype=int32)"
      ]
     },
     "execution_count": 10,
     "metadata": {},
     "output_type": "execute_result"
    }
   ],
   "source": [
    "result.eval()"
   ]
  },
  {
   "cell_type": "code",
   "execution_count": null,
   "metadata": {},
   "outputs": [],
   "source": []
  }
 ],
 "metadata": {
  "kernelspec": {
   "display_name": "Python 3",
   "language": "python",
   "name": "python3"
  },
  "language_info": {
   "codemirror_mode": {
    "name": "ipython",
    "version": 3
   },
   "file_extension": ".py",
   "mimetype": "text/x-python",
   "name": "python",
   "nbconvert_exporter": "python",
   "pygments_lexer": "ipython3",
   "version": "3.6.5"
  }
 },
 "nbformat": 4,
 "nbformat_minor": 2
}
